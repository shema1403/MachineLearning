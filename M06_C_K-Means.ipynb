{
 "cells": [
  {
   "cell_type": "markdown",
   "metadata": {},
   "source": [
    "# 실습을 통해 K-Means Clustering 모델 이해하기"
   ]
  },
  {
   "cell_type": "code",
   "execution_count": 33,
   "metadata": {},
   "outputs": [],
   "source": [
    "from sklearn.cluster import KMeans\n",
    "from sklearn.datasets import make_blobs\n",
    "\n",
    "import matplotlib.pyplot as plt\n",
    "import numpy as np"
   ]
  },
  {
   "cell_type": "markdown",
   "metadata": {},
   "source": [
    "## 가상의 데이터 생성\n",
    "* 분류용 데이터 생성 메서드를 이용해서 label이 없는 데이터를 생성하였다."
   ]
  },
  {
   "cell_type": "code",
   "execution_count": 34,
   "metadata": {},
   "outputs": [
    {
     "data": {
      "text/plain": [
       "array([[ 3.10048766, -2.0922395 ],\n",
       "       [ 3.04871092, -2.1664995 ],\n",
       "       [ 2.43097929, -2.54103137],\n",
       "       [ 2.2639684 , -3.19047057],\n",
       "       [ 3.18034785, -1.3478239 ],\n",
       "       [ 3.83231137, -2.56245503],\n",
       "       [ 3.64133576, -1.76582413],\n",
       "       [ 2.53403634, -2.20310292],\n",
       "       [ 3.26196751, -2.18278628],\n",
       "       [ 2.78030186, -2.40783054]])"
      ]
     },
     "execution_count": 34,
     "metadata": {},
     "output_type": "execute_result"
    }
   ],
   "source": [
    "X = make_blobs(n_samples=100, centers=1, cluster_std=0.5, random_state=30)\n",
    "# print(X)\n",
    "X = X[0]\n",
    "X[:10]"
   ]
  },
  {
   "cell_type": "code",
   "execution_count": 61,
   "metadata": {},
   "outputs": [
    {
     "data": {
      "image/png": "[encoded data removed]",
      "text/plain": [
       "<Figure size 432x288 with 1 Axes>"
      ]
     },
     "metadata": {
      "needs_background": "light"
     },
     "output_type": "display_data"
    }
   ],
   "source": [
    "plt.scatter(X[:, 0], X[:, 1], c='blue', edgecolor='k', lw=0.5)\n",
    "plt.show()"
   ]
  },
  {
   "cell_type": "markdown",
   "metadata": {},
   "source": [
    "## KMeans (초기화 = random)"
   ]
  },
  {
   "cell_type": "code",
   "execution_count": 69,
   "metadata": {},
   "outputs": [],
   "source": [
    "model_kpp = KMeans(n_clusters=3, init=\"k-means++\").fit(X)"
   ]
  },
  {
   "cell_type": "markdown",
   "metadata": {},
   "source": [
    "Attributes of sklearn.clustering.KMeans\n",
    "    \n",
    "- cluster__centers_ : Coordinates of cluster centers\n",
    "\n",
    "- labels_ : Labels of each point\n",
    "\n",
    "- inertia_ : Sum of squared distances of samples to their closest cluster center.\n",
    "\n",
    "- n__iter_ : Number of iterations run."
   ]
  },
  {
   "cell_type": "code",
   "execution_count": 70,
   "metadata": {},
   "outputs": [
    {
     "data": {
      "text/plain": [
       "array([[ 2.82001819, -2.85965104],\n",
       "       [ 2.49702707, -1.94201879],\n",
       "       [ 3.47353958, -2.28638104]])"
      ]
     },
     "execution_count": 70,
     "metadata": {},
     "output_type": "execute_result"
    }
   ],
   "source": [
    "center = np.zeros(2)\n",
    "center = model_kpp.cluster_centers_\n",
    "center"
   ]
  },
  {
   "cell_type": "code",
   "execution_count": 71,
   "metadata": {},
   "outputs": [],
   "source": [
    "c0 = center[0]\n",
    "c1 = center[1]\n",
    "c2 = center[2]"
   ]
  },
  {
   "cell_type": "code",
   "execution_count": 72,
   "metadata": {},
   "outputs": [
    {
     "data": {
      "image/png": "[encoded data removed]",
      "text/plain": [
       "<Figure size 432x288 with 1 Axes>"
      ]
     },
     "metadata": {
      "needs_background": "light"
     },
     "output_type": "display_data"
    }
   ],
   "source": [
    "plt.scatter(X[model_kpp.labels_ == 0, 0],X[model_kpp.labels_ == 0, 1], marker='o', c='g', edgecolor='k', lw=0.5)\n",
    "plt.scatter(X[model_kpp.labels_ == 1, 0],X[model_kpp.labels_ == 1, 1], marker='o', c='r', edgecolor='k', lw=0.5)\n",
    "plt.scatter(X[model_kpp.labels_ == 2, 0],X[model_kpp.labels_ == 2, 1], marker='o', c='b', edgecolor='k', lw=0.5)\n",
    "plt.scatter(c0[0], c0[1], s=200, c=\"g\", edgecolor='k', lw=1)\n",
    "plt.scatter(c1[0], c1[1], s=200, c=\"r\", edgecolor='k', lw=1)\n",
    "plt.scatter(c2[0], c2[1], s=200, c=\"b\", edgecolor='k', lw=1)\n",
    "plt.show()"
   ]
  },
  {
   "cell_type": "code",
   "execution_count": null,
   "metadata": {},
   "outputs": [],
   "source": []
  },
  {
   "cell_type": "code",
   "execution_count": null,
   "metadata": {},
   "outputs": [],
   "source": []
  }
 ],
 "metadata": {
  "kernelspec": {
   "display_name": "Python [conda env:lecto-gpu]",
   "language": "python",
   "name": "conda-env-lecto-gpu-py"
  },
  "language_info": {
   "codemirror_mode": {
    "name": "ipython",
    "version": 3
   },
   "file_extension": ".py",
   "mimetype": "text/x-python",
   "name": "python",
   "nbconvert_exporter": "python",
   "pygments_lexer": "ipython3",
   "version": "3.5.6"
  }
 },
 "nbformat": 4,
 "nbformat_minor": 2
}

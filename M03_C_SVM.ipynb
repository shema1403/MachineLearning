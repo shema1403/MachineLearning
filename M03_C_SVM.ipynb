{
 "cells": [
  {
   "cell_type": "markdown",
   "metadata": {},
   "source": [
    "# 실습을 통해 Support Vector Machine 모델 이해하기"
   ]
  },
  {
   "cell_type": "code",
   "execution_count": 12,
   "metadata": {},
   "outputs": [],
   "source": [
    "from sklearn.svm import SVC\n",
    "from sklearn.datasets import make_blobs\n",
    "\n",
    "import matplotlib.pyplot as plt\n",
    "import numpy as np"
   ]
  },
  {
   "cell_type": "code",
   "execution_count": 54,
   "metadata": {},
   "outputs": [
    {
     "data": {
      "text/plain": [
       "array([1, 0, 1, 1, 1, 0, 1, 0, 1, 1])"
      ]
     },
     "execution_count": 54,
     "metadata": {},
     "output_type": "execute_result"
    }
   ],
   "source": [
    "X, y = make_blobs(n_samples=100, centers=2, cluster_std=0.5, random_state=30)\n",
    "y[:10]"
   ]
  },
  {
   "cell_type": "code",
   "execution_count": 47,
   "metadata": {},
   "outputs": [
    {
     "name": "stdout",
     "output_type": "stream",
     "text": [
      "[[ 3.15838924 -6.74978581]\n",
      " [ 3.11038518 -2.57500451]\n",
      " [ 2.91212373 -6.54505819]\n",
      " [ 3.06658485 -6.77917462]\n",
      " [ 3.01261809 -6.8221684 ]\n",
      " [ 2.68936249 -3.3486829 ]\n",
      " [ 3.3752125  -5.76028423]\n",
      " [ 3.2758345  -2.51429663]\n",
      " [ 2.31886533 -6.54476888]\n",
      " [ 4.35362854 -7.10461635]]\n",
      "[3.15838924 3.11038518 2.91212373 3.06658485 3.01261809 2.68936249\n",
      " 3.3752125  3.2758345  2.31886533 4.35362854]\n",
      "[-6.74978581 -2.57500451 -6.54505819 -6.77917462 -6.8221684  -3.3486829\n",
      " -5.76028423 -2.51429663 -6.54476888 -7.10461635]\n",
      "[[ 3.11038518 -2.57500451]\n",
      " [ 2.68936249 -3.3486829 ]\n",
      " [ 3.2758345  -2.51429663]\n",
      " [ 2.8978846  -2.61003409]\n",
      " [ 2.67778621 -2.91256788]]\n"
     ]
    }
   ],
   "source": [
    "print(X[:10])\n",
    "print(X[:10, 0])\n",
    "print(X[:10, 1])"
   ]
  },
  {
   "cell_type": "code",
   "execution_count": 51,
   "metadata": {},
   "outputs": [
    {
     "name": "stdout",
     "output_type": "stream",
     "text": [
      "[[ 3.11038518 -2.57500451]\n",
      " [ 2.68936249 -3.3486829 ]\n",
      " [ 3.2758345  -2.51429663]\n",
      " [ 2.8978846  -2.61003409]\n",
      " [ 2.67778621 -2.91256788]\n",
      " [ 3.04444742 -2.8809474 ]\n",
      " [ 3.37813196 -2.68241186]\n",
      " [ 2.33279882 -3.04285225]\n",
      " [ 3.83231137 -2.56245503]\n",
      " [ 3.15824902 -1.9078523 ]\n",
      " [ 2.87998172 -2.61876969]\n",
      " [ 2.67136307 -1.85278916]\n",
      " [ 2.09187308 -3.0065873 ]\n",
      " [ 1.84092241 -1.91613935]\n",
      " [ 3.51688461 -2.52604133]\n",
      " [ 3.27425897 -3.28164916]\n",
      " [ 3.05460221 -3.67969147]\n",
      " [ 3.28812118 -2.90741939]\n",
      " [ 3.43960678 -3.34561507]\n",
      " [ 2.50084681 -2.77262446]\n",
      " [ 2.95001902 -2.93845794]\n",
      " [ 3.33943374 -3.07890288]\n",
      " [ 2.98568729 -2.6150433 ]\n",
      " [ 3.5747943  -2.00483766]\n",
      " [ 2.83252236 -2.23313361]\n",
      " [ 3.37537965 -3.23526284]\n",
      " [ 2.01988951 -1.59248252]\n",
      " [ 2.683937   -1.87546651]\n",
      " [ 2.74004796 -2.11584647]\n",
      " [ 2.53825603 -2.81140864]\n",
      " [ 2.53216951 -1.96048628]\n",
      " [ 2.79616423 -2.49335763]\n",
      " [ 2.35421465 -3.02708882]\n",
      " [ 3.32235137 -3.13249821]\n",
      " [ 3.50379847 -1.53115677]\n",
      " [ 3.17041958 -2.63425356]\n",
      " [ 3.38415087 -2.90691248]\n",
      " [ 1.43118692 -1.57658502]\n",
      " [ 2.81868787 -2.83281885]\n",
      " [ 3.6719835  -2.33128124]\n",
      " [ 2.73162387 -2.91692907]\n",
      " [ 2.30522068 -1.93461086]\n",
      " [ 3.73523265 -1.94631711]\n",
      " [ 2.87461956 -2.41807555]\n",
      " [ 3.40822062 -2.65346744]\n",
      " [ 2.30122954 -2.39569776]\n",
      " [ 2.86827436 -1.68800221]\n",
      " [ 3.59562566 -2.71740777]\n",
      " [ 2.7529033  -2.10188349]\n",
      " [ 3.04871092 -2.1664995 ]]\n",
      "[3.11038518 2.68936249 3.2758345  2.8978846  2.67778621 3.04444742\n",
      " 3.37813196 2.33279882 3.83231137 3.15824902 2.87998172 2.67136307\n",
      " 2.09187308 1.84092241 3.51688461 3.27425897 3.05460221 3.28812118\n",
      " 3.43960678 2.50084681 2.95001902 3.33943374 2.98568729 3.5747943\n",
      " 2.83252236 3.37537965 2.01988951 2.683937   2.74004796 2.53825603\n",
      " 2.53216951 2.79616423 2.35421465 3.32235137 3.50379847 3.17041958\n",
      " 3.38415087 1.43118692 2.81868787 3.6719835  2.73162387 2.30522068\n",
      " 3.73523265 2.87461956 3.40822062 2.30122954 2.86827436 3.59562566\n",
      " 2.7529033  3.04871092]\n"
     ]
    }
   ],
   "source": [
    "print(X[y==0])\n",
    "print(X[y==0, 0])"
   ]
  },
  {
   "cell_type": "code",
   "execution_count": 49,
   "metadata": {},
   "outputs": [
    {
     "data": {
      "image/png": "[encoded data removed]",
      "text/plain": [
       "<Figure size 432x288 with 1 Axes>"
      ]
     },
     "metadata": {
      "needs_background": "light"
     },
     "output_type": "display_data"
    }
   ],
   "source": [
    "plt.scatter(X[y == 0, 0], X[y == 0, 1], c='k', marker='o')\n",
    "plt.scatter(X[y == 1, 0], X[y == 1, 1], c='r', marker='^')\n",
    "plt.show()"
   ]
  },
  {
   "cell_type": "code",
   "execution_count": 56,
   "metadata": {},
   "outputs": [],
   "source": [
    "model = SVC(kernel='linear', C=1e10).fit(X, y)"
   ]
  },
  {
   "cell_type": "markdown",
   "metadata": {},
   "source": [
    "- n_support_ : 각 클래스의 서포트의 개수\n",
    "- support_vectors_ : 각 클래스의 서포트의 x 값\n",
    "- coef_:  weight\n",
    "- intercept_:  bias "
   ]
  },
  {
   "cell_type": "code",
   "execution_count": 16,
   "metadata": {},
   "outputs": [
    {
     "data": {
      "text/plain": [
       "array([1, 2])"
      ]
     },
     "execution_count": 16,
     "metadata": {},
     "output_type": "execute_result"
    }
   ],
   "source": [
    "model.n_support_"
   ]
  },
  {
   "cell_type": "code",
   "execution_count": 17,
   "metadata": {},
   "outputs": [
    {
     "data": {
      "text/plain": [
       "array([[ 3.05460221, -3.67969147],\n",
       "       [ 3.55843523, -5.68977917],\n",
       "       [ 2.86846825, -5.74247281]])"
      ]
     },
     "execution_count": 17,
     "metadata": {},
     "output_type": "execute_result"
    }
   ],
   "source": [
    "model.support_vectors_"
   ]
  },
  {
   "cell_type": "code",
   "execution_count": 74,
   "metadata": {},
   "outputs": [],
   "source": [
    "xmin = X[:,0].min()\n",
    "xmax = X[:,0].max()\n",
    "ymin = X[:,1].min()\n",
    "ymax = X[:,1].max()\n",
    "xx = np.linspace(xmin, xmax, 10)\n",
    "yy = np.linspace(ymin, ymax, 10)\n",
    "X1, X2 = np.meshgrid(xx, yy)"
   ]
  },
  {
   "cell_type": "code",
   "execution_count": 75,
   "metadata": {},
   "outputs": [],
   "source": [
    "Z = np.empty(X1.shape)\n",
    "for (i, j), val in np.ndenumerate(X1):\n",
    "    x1 = val\n",
    "    x2 = X2[i, j]\n",
    "    p = model.decision_function([[x1, x2]])\n",
    "    Z[i, j] = p[0]"
   ]
  },
  {
   "cell_type": "code",
   "execution_count": 20,
   "metadata": {},
   "outputs": [],
   "source": [
    "levels = [-1, 0, 1]\n",
    "linestyles = ['dashed', 'solid', 'dashed']"
   ]
  },
  {
   "cell_type": "code",
   "execution_count": 21,
   "metadata": {
    "scrolled": true
   },
   "outputs": [
    {
     "data": {
      "image/png": "[encoded data removed]",
      "text/plain": [
       "<Figure size 432x288 with 1 Axes>"
      ]
     },
     "metadata": {
      "needs_background": "light"
     },
     "output_type": "display_data"
    }
   ],
   "source": [
    "plt.scatter(X[y == 0, 0], X[y == 0, 1], marker='o')\n",
    "plt.scatter(X[y == 1, 0], X[y == 1, 1], marker='x')\n",
    "plt.contour(X1, X2, Z, levels, colors='k', linestyles=linestyles)\n",
    "plt.scatter(model.support_vectors_[:, 0], \n",
    "            model.support_vectors_[:, 1], \n",
    "            s=200, alpha=0.4)\n",
    "\n",
    "x_new = [[4, -2], [3.5, -5], [2, -4]]\n",
    "plt.scatter(x_new[0][0], x_new[0][1], marker='^', c='r')\n",
    "plt.scatter(x_new[1][0], x_new[1][1], marker='^', c='b')\n",
    "plt.scatter(x_new[2][0], x_new[2][1], marker='^', c='g')\n",
    "\n",
    "plt.show()"
   ]
  },
  {
   "cell_type": "code",
   "execution_count": 22,
   "metadata": {},
   "outputs": [
    {
     "data": {
      "text/plain": [
       "array([0])"
      ]
     },
     "execution_count": 22,
     "metadata": {},
     "output_type": "execute_result"
    }
   ],
   "source": [
    "model.predict([x_new[0]])"
   ]
  },
  {
   "cell_type": "code",
   "execution_count": 23,
   "metadata": {},
   "outputs": [
    {
     "data": {
      "text/plain": [
       "array([1])"
      ]
     },
     "execution_count": 23,
     "metadata": {},
     "output_type": "execute_result"
    }
   ],
   "source": [
    "model.predict([x_new[1]])"
   ]
  },
  {
   "cell_type": "code",
   "execution_count": 24,
   "metadata": {},
   "outputs": [
    {
     "data": {
      "text/plain": [
       "array([0])"
      ]
     },
     "execution_count": 24,
     "metadata": {},
     "output_type": "execute_result"
    }
   ],
   "source": [
    "model.predict([x_new[2]])"
   ]
  },
  {
   "cell_type": "code",
   "execution_count": null,
   "metadata": {},
   "outputs": [],
   "source": []
  }
 ],
 "metadata": {
  "kernelspec": {
   "display_name": "Python 3",
   "language": "python",
   "name": "python3"
  },
  "language_info": {
   "codemirror_mode": {
    "name": "ipython",
    "version": 3
   },
   "file_extension": ".py",
   "mimetype": "text/x-python",
   "name": "python",
   "nbconvert_exporter": "python",
   "pygments_lexer": "ipython3",
   "version": "3.7.0"
  }
 },
 "nbformat": 4,
 "nbformat_minor": 2
}
